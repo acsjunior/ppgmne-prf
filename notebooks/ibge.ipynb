{
 "cells": [
  {
   "cell_type": "code",
   "execution_count": 1,
   "metadata": {},
   "outputs": [],
   "source": [
    "import pandas as pd\n",
    "import requests\n",
    "\n",
    "from ppgmne_prf.config.paths import PATH_DATA_CACHE"
   ]
  },
  {
   "cell_type": "code",
   "execution_count": 2,
   "metadata": {},
   "outputs": [],
   "source": [
    "# https://servicodados.ibge.gov.br/api/docs/localidades\n",
    "\n",
    "url = \"https://servicodados.ibge.gov.br/api/v1/localidades/estados/PR/municipios\"\n",
    "data = requests.get(url).json()"
   ]
  },
  {
   "cell_type": "code",
   "execution_count": 4,
   "metadata": {},
   "outputs": [],
   "source": [
    "dict_muns = {}\n",
    "dict_muns['municipio_id'] = []\n",
    "dict_muns['municipio'] = []\n",
    "dict_muns['microrregiao_id'] = []\n",
    "dict_muns['microrregiao'] = []\n",
    "dict_muns['mesorregiao_id'] = []\n",
    "dict_muns['mesorregiao'] = []\n",
    "dict_muns['regiao_imediata_id'] = []\n",
    "dict_muns['regiao_imediata'] = []\n",
    "\n",
    "for mun in data:\n",
    "    dict_muns['municipio_id'].append(mun['id'])\n",
    "    dict_muns['municipio'].append(mun['nome'])\n",
    "    dict_muns['microrregiao_id'].append(mun['microrregiao']['id'])\n",
    "    dict_muns['microrregiao'].append(mun['microrregiao']['nome'])\n",
    "    dict_muns['mesorregiao_id'].append(mun['microrregiao']['mesorregiao']['id'])\n",
    "    dict_muns['mesorregiao'].append(mun['microrregiao']['mesorregiao']['nome'])\n",
    "    dict_muns['regiao_imediata_id'].append(mun['regiao-imediata']['id'])\n",
    "    dict_muns['regiao_imediata'].append(mun['regiao-imediata']['nome'])\n",
    "\n",
    "df_muns = pd.DataFrame(dict_muns)\n",
    "df_muns.to_pickle(PATH_DATA_CACHE / \"df_municipios_ibge.pkl\")"
   ]
  }
 ],
 "metadata": {
  "kernelspec": {
   "display_name": ".venv",
   "language": "python",
   "name": "python3"
  },
  "language_info": {
   "codemirror_mode": {
    "name": "ipython",
    "version": 3
   },
   "file_extension": ".py",
   "mimetype": "text/x-python",
   "name": "python",
   "nbconvert_exporter": "python",
   "pygments_lexer": "ipython3",
   "version": "3.9.13"
  },
  "orig_nbformat": 4
 },
 "nbformat": 4,
 "nbformat_minor": 2
}
