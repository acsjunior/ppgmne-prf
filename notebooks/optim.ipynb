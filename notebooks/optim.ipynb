{
 "cells": [
  {
   "cell_type": "code",
   "execution_count": 1,
   "metadata": {},
   "outputs": [],
   "source": [
    "from ppgmne_prf.load_data import load_data\n",
    "from ppgmne_prf.optim import (\n",
    "    get_abstract_model,\n",
    "    get_fixed_params,\n",
    "    get_instance,\n",
    "    get_solution_data,\n",
    "    solve_instance,\n",
    ")\n",
    "from ppgmne_prf.preprocess import preprocess"
   ]
  },
  {
   "cell_type": "code",
   "execution_count": 2,
   "metadata": {},
   "outputs": [
    {
     "name": "stderr",
     "output_type": "stream",
     "text": [
      "\u001b[32m2023-07-11 03:22:44.686\u001b[0m | \u001b[1mINFO    \u001b[0m | \u001b[36mppgmne_prf.load_data\u001b[0m:\u001b[36mload_data\u001b[0m:\u001b[36m16\u001b[0m - \u001b[1mLoad data - Início do carregamento os dados de entrada.\u001b[0m\n",
      "\u001b[32m2023-07-11 03:22:44.687\u001b[0m | \u001b[1mINFO    \u001b[0m | \u001b[36mppgmne_prf.load_data\u001b[0m:\u001b[36mload_data\u001b[0m:\u001b[36m18\u001b[0m - \u001b[1mLoad data (accidents) - Carregando os dados históricos dos acidentes.\u001b[0m\n",
      "\u001b[32m2023-07-11 03:22:44.688\u001b[0m | \u001b[33m\u001b[1mWARNING \u001b[0m | \u001b[36mppgmne_prf.load_data\u001b[0m:\u001b[36m__load_accidents\u001b[0m:\u001b[36m44\u001b[0m - \u001b[33m\u001b[1mLoad data (accidents) - Dados carregados da cache.\u001b[0m\n",
      "\u001b[32m2023-07-11 03:22:44.868\u001b[0m | \u001b[1mINFO    \u001b[0m | \u001b[36mppgmne_prf.load_data\u001b[0m:\u001b[36mload_data\u001b[0m:\u001b[36m21\u001b[0m - \u001b[1mLoad data (stations) - Carregando as coordenadas das UOPs e delegacias.\u001b[0m\n",
      "\u001b[32m2023-07-11 03:22:44.868\u001b[0m | \u001b[33m\u001b[1mWARNING \u001b[0m | \u001b[36mppgmne_prf.load_data\u001b[0m:\u001b[36m__load_stations\u001b[0m:\u001b[36m132\u001b[0m - \u001b[33m\u001b[1mLoad data (stations) - Dados carregados da cache.\u001b[0m\n",
      "\u001b[32m2023-07-11 03:22:44.869\u001b[0m | \u001b[1mINFO    \u001b[0m | \u001b[36mppgmne_prf.load_data\u001b[0m:\u001b[36mload_data\u001b[0m:\u001b[36m26\u001b[0m - \u001b[1mLoad data - Fim do carregamento os dados de entrada.\u001b[0m\n",
      "\u001b[32m2023-07-11 03:22:44.871\u001b[0m | \u001b[1mINFO    \u001b[0m | \u001b[36mppgmne_prf.preprocess\u001b[0m:\u001b[36mpreprocess\u001b[0m:\u001b[36m37\u001b[0m - \u001b[1mPre-process - Início do pré-processamento dos dados de entrada.\u001b[0m\n",
      "\u001b[32m2023-07-11 03:22:44.871\u001b[0m | \u001b[1mINFO    \u001b[0m | \u001b[36mppgmne_prf.preprocess\u001b[0m:\u001b[36mpreprocess\u001b[0m:\u001b[36m39\u001b[0m - \u001b[1mPre-process (accidents) - Início do pré-processamento dos dados dos acidentes.\u001b[0m\n",
      "\u001b[32m2023-07-11 03:22:44.871\u001b[0m | \u001b[1mINFO    \u001b[0m | \u001b[36mppgmne_prf.preprocess\u001b[0m:\u001b[36mpreprocess_accidents\u001b[0m:\u001b[36m62\u001b[0m - \u001b[1mPre-process (accidents) - Removendo registros incompletos.\u001b[0m\n",
      "\u001b[32m2023-07-11 03:22:45.489\u001b[0m | \u001b[1mINFO    \u001b[0m | \u001b[36mppgmne_prf.utils\u001b[0m:\u001b[36mtrace_df\u001b[0m:\u001b[36m210\u001b[0m - \u001b[1mshape: (327964, 28)\u001b[0m\n",
      "\u001b[32m2023-07-11 03:22:45.538\u001b[0m | \u001b[1mINFO    \u001b[0m | \u001b[36mppgmne_prf.preprocess\u001b[0m:\u001b[36m__filter_uf\u001b[0m:\u001b[36m248\u001b[0m - \u001b[1mPre-process (accidents) - Mantendo somente os registros das delegacias do PR.\u001b[0m\n",
      "\u001b[32m2023-07-11 03:22:45.751\u001b[0m | \u001b[1mINFO    \u001b[0m | \u001b[36mppgmne_prf.utils\u001b[0m:\u001b[36mtrace_df\u001b[0m:\u001b[36m210\u001b[0m - \u001b[1mshape: (36801, 28)\u001b[0m\n",
      "\u001b[32m2023-07-11 03:22:45.752\u001b[0m | \u001b[1mINFO    \u001b[0m | \u001b[36mppgmne_prf.preprocess\u001b[0m:\u001b[36m__create_datetime_column\u001b[0m:\u001b[36m272\u001b[0m - \u001b[1mPre-process (accidents) - Criando o campo data_hora.\u001b[0m\n",
      "\u001b[32m2023-07-11 03:22:45.775\u001b[0m | \u001b[1mINFO    \u001b[0m | \u001b[36mppgmne_prf.utils\u001b[0m:\u001b[36mtrace_df\u001b[0m:\u001b[36m210\u001b[0m - \u001b[1mshape: (36801, 27)\u001b[0m\n",
      "\u001b[32m2023-07-11 03:22:45.776\u001b[0m | \u001b[1mINFO    \u001b[0m | \u001b[36mppgmne_prf.preprocess\u001b[0m:\u001b[36m__classify_holiday_and_weekend\u001b[0m:\u001b[36m292\u001b[0m - \u001b[1mPre-process (accidents) - Criando as flags de feriado e final de semana.\u001b[0m\n",
      "\u001b[32m2023-07-11 03:22:45.823\u001b[0m | \u001b[1mINFO    \u001b[0m | \u001b[36mppgmne_prf.utils\u001b[0m:\u001b[36mtrace_df\u001b[0m:\u001b[36m210\u001b[0m - \u001b[1mshape: (36801, 29)\u001b[0m\n",
      "\u001b[32m2023-07-11 03:22:45.839\u001b[0m | \u001b[1mINFO    \u001b[0m | \u001b[36mppgmne_prf.preprocess\u001b[0m:\u001b[36mpreprocess_accidents\u001b[0m:\u001b[36m74\u001b[0m - \u001b[1mPre-process (accidents) - Padronizando os campos do tipo string.\u001b[0m\n",
      "\u001b[32m2023-07-11 03:22:46.671\u001b[0m | \u001b[1mINFO    \u001b[0m | \u001b[36mppgmne_prf.utils\u001b[0m:\u001b[36mtrace_df\u001b[0m:\u001b[36m210\u001b[0m - \u001b[1mshape: (36801, 29)\u001b[0m\n",
      "\u001b[32m2023-07-11 03:22:46.672\u001b[0m | \u001b[1mINFO    \u001b[0m | \u001b[36mppgmne_prf.preprocess\u001b[0m:\u001b[36m__convert_lat_lon\u001b[0m:\u001b[36m315\u001b[0m - \u001b[1mPre-process (accidents) - Convertendo os tipos dos campos latitude e longitude.\u001b[0m\n",
      "\u001b[32m2023-07-11 03:22:46.692\u001b[0m | \u001b[1mINFO    \u001b[0m | \u001b[36mppgmne_prf.utils\u001b[0m:\u001b[36mtrace_df\u001b[0m:\u001b[36m210\u001b[0m - \u001b[1mshape: (36801, 29)\u001b[0m\n",
      "\u001b[32m2023-07-11 03:22:46.692\u001b[0m | \u001b[1mINFO    \u001b[0m | \u001b[36mppgmne_prf.preprocess\u001b[0m:\u001b[36m__keep_min_decimal_places\u001b[0m:\u001b[36m337\u001b[0m - \u001b[1mPre-process (accidents) - Eliminando registros com lat/lon com menos de 3 casas decimais.\u001b[0m\n",
      "\u001b[32m2023-07-11 03:22:46.870\u001b[0m | \u001b[1mINFO    \u001b[0m | \u001b[36mppgmne_prf.utils\u001b[0m:\u001b[36mtrace_df\u001b[0m:\u001b[36m210\u001b[0m - \u001b[1mshape: (36745, 29)\u001b[0m\n",
      "\u001b[32m2023-07-11 03:22:46.871\u001b[0m | \u001b[1mINFO    \u001b[0m | \u001b[36mppgmne_prf.preprocess\u001b[0m:\u001b[36m__keep_geo_correct_rows\u001b[0m:\u001b[36m360\u001b[0m - \u001b[1mPre-process (accidents) - Mantendo somente registros de acidentes ocorridos geograficamente no PR.\u001b[0m\n",
      "\u001b[32m2023-07-11 03:22:49.475\u001b[0m | \u001b[1mINFO    \u001b[0m | \u001b[36mppgmne_prf.utils\u001b[0m:\u001b[36mtrace_df\u001b[0m:\u001b[36m210\u001b[0m - \u001b[1mshape: (36572, 29)\u001b[0m\n",
      "\u001b[32m2023-07-11 03:22:49.475\u001b[0m | \u001b[1mINFO    \u001b[0m | \u001b[36mppgmne_prf.preprocess\u001b[0m:\u001b[36m__manual_transformations\u001b[0m:\u001b[36m427\u001b[0m - \u001b[1mPre-process (accidents) - Aplicação das correções manuais.\u001b[0m\n",
      "\u001b[32m2023-07-11 03:22:49.511\u001b[0m | \u001b[1mINFO    \u001b[0m | \u001b[36mppgmne_prf.utils\u001b[0m:\u001b[36mtrace_df\u001b[0m:\u001b[36m210\u001b[0m - \u001b[1mshape: (36414, 29)\u001b[0m\n",
      "\u001b[32m2023-07-11 03:22:49.512\u001b[0m | \u001b[1mINFO    \u001b[0m | \u001b[36mppgmne_prf.preprocess\u001b[0m:\u001b[36m__remove_outlier_coords\u001b[0m:\u001b[36m462\u001b[0m - \u001b[1mPre-process (accidents) - Eliminando as coordenadas outliers por delegacia.\u001b[0m\n",
      "\u001b[32m2023-07-11 03:22:49.555\u001b[0m | \u001b[1mINFO    \u001b[0m | \u001b[36mppgmne_prf.utils\u001b[0m:\u001b[36mtrace_df\u001b[0m:\u001b[36m210\u001b[0m - \u001b[1mshape: (36195, 29)\u001b[0m\n",
      "\u001b[32m2023-07-11 03:22:49.560\u001b[0m | \u001b[1mINFO    \u001b[0m | \u001b[36mppgmne_prf.preprocess\u001b[0m:\u001b[36mpreprocess\u001b[0m:\u001b[36m44\u001b[0m - \u001b[1mPre-process (stations) - Início do pré-processamento dos dados das estações policiais.\u001b[0m\n",
      "\u001b[32m2023-07-11 03:22:49.562\u001b[0m | \u001b[1mINFO    \u001b[0m | \u001b[36mppgmne_prf.preprocess\u001b[0m:\u001b[36mpreprocess_stations\u001b[0m:\u001b[36m95\u001b[0m - \u001b[1mPre-process (stations) - Estruturando os dados das estações policiais.\u001b[0m\n",
      "\u001b[32m2023-07-11 03:22:49.573\u001b[0m | \u001b[1mINFO    \u001b[0m | \u001b[36mppgmne_prf.preprocess\u001b[0m:\u001b[36mpreprocess_stations\u001b[0m:\u001b[36m183\u001b[0m - \u001b[1mPre-process (stations) - Incluindo os códigos das UOPs.\u001b[0m\n",
      "\u001b[32m2023-07-11 03:22:49.580\u001b[0m | \u001b[1mINFO    \u001b[0m | \u001b[36mppgmne_prf.utils\u001b[0m:\u001b[36mtrace_df\u001b[0m:\u001b[36m210\u001b[0m - \u001b[1mshape: (43, 13)\u001b[0m\n",
      "\u001b[32m2023-07-11 03:22:49.583\u001b[0m | \u001b[1mINFO    \u001b[0m | \u001b[36mppgmne_prf.preprocess\u001b[0m:\u001b[36mpreprocess\u001b[0m:\u001b[36m49\u001b[0m - \u001b[1mPre-process (quadrants) - Início do pré-processamento dos dados dos quadrantes.\u001b[0m\n",
      "\u001b[32m2023-07-11 03:22:49.589\u001b[0m | \u001b[1mINFO    \u001b[0m | \u001b[36mppgmne_prf.utils\u001b[0m:\u001b[36mtrace_df\u001b[0m:\u001b[36m210\u001b[0m - \u001b[1mshape: (36195, 29)\u001b[0m\n",
      "\u001b[32m2023-07-11 03:22:49.591\u001b[0m | \u001b[1mINFO    \u001b[0m | \u001b[36mppgmne_prf.preprocess\u001b[0m:\u001b[36m__identify_quadrant\u001b[0m:\u001b[36m497\u001b[0m - \u001b[1mPre-process (quadrants) - Criando a identificação dos quadrantes.\u001b[0m\n",
      "\u001b[32m2023-07-11 03:22:49.642\u001b[0m | \u001b[1mINFO    \u001b[0m | \u001b[36mppgmne_prf.utils\u001b[0m:\u001b[36mtrace_df\u001b[0m:\u001b[36m210\u001b[0m - \u001b[1mshape: (36195, 33)\u001b[0m\n",
      "\u001b[32m2023-07-11 03:22:49.643\u001b[0m | \u001b[1mINFO    \u001b[0m | \u001b[36mppgmne_prf.preprocess\u001b[0m:\u001b[36m__get_quadrant_stats\u001b[0m:\u001b[36m560\u001b[0m - \u001b[1mPre-process (quadrants) - Calculando as estatísticas dos quadrantes.\u001b[0m\n",
      "\u001b[32m2023-07-11 03:22:49.672\u001b[0m | \u001b[1mINFO    \u001b[0m | \u001b[36mppgmne_prf.utils\u001b[0m:\u001b[36mtrace_df\u001b[0m:\u001b[36m210\u001b[0m - \u001b[1mshape: (36195, 38)\u001b[0m\n",
      "\u001b[32m2023-07-11 03:22:49.675\u001b[0m | \u001b[1mINFO    \u001b[0m | \u001b[36mppgmne_prf.preprocess\u001b[0m:\u001b[36m__get_quadrant_clusters\u001b[0m:\u001b[36m597\u001b[0m - \u001b[1mPre-process (quadrants) - Identificando o cluster de cada quadrante.\u001b[0m\n",
      "\u001b[32m2023-07-11 03:22:49.750\u001b[0m | \u001b[1mINFO    \u001b[0m | \u001b[36mppgmne_prf.utils\u001b[0m:\u001b[36mtrace_df\u001b[0m:\u001b[36m210\u001b[0m - \u001b[1mshape: (36195, 39)\u001b[0m\n",
      "\u001b[32m2023-07-11 03:22:49.751\u001b[0m | \u001b[1mINFO    \u001b[0m | \u001b[36mppgmne_prf.preprocess\u001b[0m:\u001b[36m__aggregate_quadrants\u001b[0m:\u001b[36m663\u001b[0m - \u001b[1mPre-process (quadrants) - Agregando os dados por quadrante.\u001b[0m\n",
      "\u001b[32m2023-07-11 03:22:49.774\u001b[0m | \u001b[1mINFO    \u001b[0m | \u001b[36mppgmne_prf.utils\u001b[0m:\u001b[36mtrace_df\u001b[0m:\u001b[36m210\u001b[0m - \u001b[1mshape: (418, 10)\u001b[0m\n",
      "\u001b[32m2023-07-11 03:22:49.774\u001b[0m | \u001b[1mINFO    \u001b[0m | \u001b[36mppgmne_prf.preprocess\u001b[0m:\u001b[36mpreprocess_quadrants\u001b[0m:\u001b[36m213\u001b[0m - \u001b[1mPre-process (quadrants) - Incluindo o DMAX na base.\u001b[0m\n",
      "\u001b[32m2023-07-11 03:22:49.775\u001b[0m | \u001b[1mINFO    \u001b[0m | \u001b[36mppgmne_prf.preprocess\u001b[0m:\u001b[36m__rename_corresp_quadrants\u001b[0m:\u001b[36m675\u001b[0m - \u001b[1mPre-process (quadrants) - Renomeando os quadrantes correspondentes.\u001b[0m\n",
      "\u001b[32m2023-07-11 03:22:49.776\u001b[0m | \u001b[1mINFO    \u001b[0m | \u001b[36mppgmne_prf.preprocess\u001b[0m:\u001b[36m__find_corresp_quadrant\u001b[0m:\u001b[36m707\u001b[0m - \u001b[1mPre-process (quadrants) - Encontrando o quadrante correspondente para cada UOP.\u001b[0m\n",
      "\u001b[32m2023-07-11 03:22:49.784\u001b[0m | \u001b[1mINFO    \u001b[0m | \u001b[36mppgmne_prf.utils\u001b[0m:\u001b[36mtrace_df\u001b[0m:\u001b[36m210\u001b[0m - \u001b[1mshape: (418, 12)\u001b[0m\n",
      "\u001b[32m2023-07-11 03:22:49.785\u001b[0m | \u001b[1mINFO    \u001b[0m | \u001b[36mppgmne_prf.preprocess\u001b[0m:\u001b[36mpreprocess_quadrants\u001b[0m:\u001b[36m218\u001b[0m - \u001b[1mPre-process (quadrants) - Criando as flags 'is_uop' e 'is_only_uop'.\u001b[0m\n",
      "\u001b[32m2023-07-11 03:22:49.786\u001b[0m | \u001b[1mINFO    \u001b[0m | \u001b[36mppgmne_prf.preprocess\u001b[0m:\u001b[36m__add_only_uops\u001b[0m:\u001b[36m738\u001b[0m - \u001b[1mAdicionando as UOPs sem registro de acidentes.\u001b[0m\n",
      "\u001b[32m2023-07-11 03:22:49.786\u001b[0m | \u001b[1mINFO    \u001b[0m | \u001b[36mppgmne_prf.preprocess\u001b[0m:\u001b[36m__find_corresp_quadrant\u001b[0m:\u001b[36m707\u001b[0m - \u001b[1mPre-process (quadrants) - Encontrando o quadrante correspondente para cada UOP.\u001b[0m\n",
      "\u001b[32m2023-07-11 03:22:49.796\u001b[0m | \u001b[1mINFO    \u001b[0m | \u001b[36mppgmne_prf.utils\u001b[0m:\u001b[36mtrace_df\u001b[0m:\u001b[36m210\u001b[0m - \u001b[1mshape: (419, 13)\u001b[0m\n",
      "\u001b[32m2023-07-11 03:22:49.797\u001b[0m | \u001b[1mINFO    \u001b[0m | \u001b[36mppgmne_prf.preprocess\u001b[0m:\u001b[36mpreprocess_quadrants\u001b[0m:\u001b[36m226\u001b[0m - \u001b[1mPre-process (quadrants) - Ordenando os quadrantes (UOPs atuais por último).\u001b[0m\n",
      "\u001b[32m2023-07-11 03:22:49.798\u001b[0m | \u001b[1mINFO    \u001b[0m | \u001b[36mppgmne_prf.preprocess\u001b[0m:\u001b[36mpreprocess\u001b[0m:\u001b[36m54\u001b[0m - \u001b[1mPre-process - Fim do pré-processamento dos dados de entrada.\u001b[0m\n"
     ]
    }
   ],
   "source": [
    "df_accidents, dict_stations = load_data()\n",
    "df_quadrants = preprocess(df_accidents, dict_stations)"
   ]
  },
  {
   "cell_type": "code",
   "execution_count": 3,
   "metadata": {},
   "outputs": [
    {
     "name": "stderr",
     "output_type": "stream",
     "text": [
      "\u001b[32m2023-07-11 03:23:03.268\u001b[0m | \u001b[1mINFO    \u001b[0m | \u001b[36mppgmne_prf.optim\u001b[0m:\u001b[36mget_fixed_params\u001b[0m:\u001b[36m29\u001b[0m - \u001b[1mOptimizer - Obtendo os parâmetros fixos do modelo.\u001b[0m\n"
     ]
    }
   ],
   "source": [
    "# Modelo\n",
    "dict_params = get_fixed_params(df_quadrants)"
   ]
  },
  {
   "cell_type": "code",
   "execution_count": 4,
   "metadata": {},
   "outputs": [
    {
     "name": "stderr",
     "output_type": "stream",
     "text": [
      "\u001b[32m2023-07-11 03:23:16.625\u001b[0m | \u001b[1mINFO    \u001b[0m | \u001b[36mppgmne_prf.optim\u001b[0m:\u001b[36mget_abstract_model\u001b[0m:\u001b[36m92\u001b[0m - \u001b[1mOptimizer - Gerando o modelo de p-medianas.\u001b[0m\n",
      "\u001b[32m2023-07-11 03:23:16.627\u001b[0m | \u001b[1mINFO    \u001b[0m | \u001b[36mppgmne_prf.optim\u001b[0m:\u001b[36mget_abstract_model\u001b[0m:\u001b[36m95\u001b[0m - \u001b[1mOptimizer - Declarando os índices.\u001b[0m\n",
      "\u001b[32m2023-07-11 03:23:16.628\u001b[0m | \u001b[1mINFO    \u001b[0m | \u001b[36mppgmne_prf.optim\u001b[0m:\u001b[36mget_abstract_model\u001b[0m:\u001b[36m104\u001b[0m - \u001b[1mOptimizer - Declarando os parâmetros.\u001b[0m\n",
      "\u001b[32m2023-07-11 03:23:16.631\u001b[0m | \u001b[1mINFO    \u001b[0m | \u001b[36mppgmne_prf.optim\u001b[0m:\u001b[36mget_abstract_model\u001b[0m:\u001b[36m113\u001b[0m - \u001b[1mOptimizer - Declarando as variáveis de decisão.\u001b[0m\n",
      "\u001b[32m2023-07-11 03:23:16.631\u001b[0m | \u001b[1mINFO    \u001b[0m | \u001b[36mppgmne_prf.optim\u001b[0m:\u001b[36mget_abstract_model\u001b[0m:\u001b[36m117\u001b[0m - \u001b[1mOptimizer - Declarando a função objetivo.\u001b[0m\n",
      "\u001b[32m2023-07-11 03:23:16.632\u001b[0m | \u001b[1mINFO    \u001b[0m | \u001b[36mppgmne_prf.optim\u001b[0m:\u001b[36mget_abstract_model\u001b[0m:\u001b[36m126\u001b[0m - \u001b[1mOptimizer - Declarando as restrições.\u001b[0m\n",
      "\u001b[32m2023-07-11 03:23:16.632\u001b[0m | \u001b[1mINFO    \u001b[0m | \u001b[36mppgmne_prf.optim\u001b[0m:\u001b[36mget_abstract_model\u001b[0m:\u001b[36m156\u001b[0m - \u001b[1mOptimizer - Modelo de p-medianas gerado com sucesso.\u001b[0m\n"
     ]
    }
   ],
   "source": [
    "# Cria o modelo abstrato:\n",
    "model = get_abstract_model(\n",
    "    a=dict_params[\"a\"],\n",
    "    u=dict_params[\"u\"],\n",
    "    s=dict_params[\"s\"],\n",
    "    dist_max=dict_params[\"dist_max\"],\n",
    "    dist_matrix=dict_params[\"dist_matrix\"],\n",
    "    accidents_hist=dict_params[\"accidents_hist\"],\n",
    ")"
   ]
  },
  {
   "cell_type": "code",
   "execution_count": 5,
   "metadata": {},
   "outputs": [
    {
     "name": "stderr",
     "output_type": "stream",
     "text": [
      "\u001b[32m2023-07-11 03:23:35.027\u001b[0m | \u001b[1mINFO    \u001b[0m | \u001b[36mppgmne_prf.optim\u001b[0m:\u001b[36mget_instance\u001b[0m:\u001b[36m178\u001b[0m - \u001b[1mOptimizer - Obtendo instância p = 39, q = 33 do modelo de p-medianas.\u001b[0m\n"
     ]
    }
   ],
   "source": [
    "instance = get_instance(model, p=39, q=33)"
   ]
  },
  {
   "cell_type": "code",
   "execution_count": 6,
   "metadata": {},
   "outputs": [
    {
     "name": "stderr",
     "output_type": "stream",
     "text": [
      "\u001b[32m2023-07-11 03:23:44.915\u001b[0m | \u001b[1mINFO    \u001b[0m | \u001b[36mppgmne_prf.optim\u001b[0m:\u001b[36msolve_instance\u001b[0m:\u001b[36m191\u001b[0m - \u001b[1mOptimizer - Resolvendo a instância via gurobi.\u001b[0m\n",
      "\u001b[32m2023-07-11 03:23:44.923\u001b[0m | \u001b[1mINFO    \u001b[0m | \u001b[36mppgmne_prf.optim\u001b[0m:\u001b[36msolve_instance\u001b[0m:\u001b[36m196\u001b[0m - \u001b[1mOptimizer - Obtendo os resultados da instância p = 39, q = 33.\u001b[0m\n",
      "\u001b[32m2023-07-11 03:23:57.525\u001b[0m | \u001b[1mINFO    \u001b[0m | \u001b[36mppgmne_prf.optim\u001b[0m:\u001b[36msolve_instance\u001b[0m:\u001b[36m204\u001b[0m - \u001b[1mOptimizer - Solução factível: True\u001b[0m\n",
      "\u001b[32m2023-07-11 03:23:57.526\u001b[0m | \u001b[1mINFO    \u001b[0m | \u001b[36mppgmne_prf.optim\u001b[0m:\u001b[36msolve_instance\u001b[0m:\u001b[36m205\u001b[0m - \u001b[1mOptimizer - Solução ótima: True\u001b[0m\n",
      "\u001b[32m2023-07-11 03:23:58.022\u001b[0m | \u001b[1mINFO    \u001b[0m | \u001b[36mppgmne_prf.optim\u001b[0m:\u001b[36msolve_instance\u001b[0m:\u001b[36m211\u001b[0m - \u001b[1mOptimizer - Função objetivo: 469938.0021614689\u001b[0m\n"
     ]
    }
   ],
   "source": [
    "instance, is_feasible = solve_instance(instance)"
   ]
  },
  {
   "cell_type": "code",
   "execution_count": 7,
   "metadata": {},
   "outputs": [
    {
     "name": "stderr",
     "output_type": "stream",
     "text": [
      "\u001b[32m2023-07-11 03:24:09.887\u001b[0m | \u001b[1mINFO    \u001b[0m | \u001b[36mppgmne_prf.optim\u001b[0m:\u001b[36mget_solution_data\u001b[0m:\u001b[36m243\u001b[0m - \u001b[1mOptimizer - Obtendo os dados da solução.\u001b[0m\n"
     ]
    }
   ],
   "source": [
    "if is_feasible:\n",
    "    df_sol = get_solution_data(instance, df_quadrants)"
   ]
  },
  {
   "cell_type": "code",
   "execution_count": null,
   "metadata": {},
   "outputs": [],
   "source": []
  }
 ],
 "metadata": {
  "kernelspec": {
   "display_name": ".venv",
   "language": "python",
   "name": "python3"
  },
  "language_info": {
   "codemirror_mode": {
    "name": "ipython",
    "version": 3
   },
   "file_extension": ".py",
   "mimetype": "text/x-python",
   "name": "python",
   "nbconvert_exporter": "python",
   "pygments_lexer": "ipython3",
   "version": "3.9.13"
  },
  "orig_nbformat": 4
 },
 "nbformat": 4,
 "nbformat_minor": 2
}
